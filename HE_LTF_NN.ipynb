{
  "nbformat": 4,
  "nbformat_minor": 0,
  "metadata": {
    "colab": {
      "provenance": [],
      "authorship_tag": "ABX9TyNdO4sJ0SwCYZeJo1W6p796",
      "include_colab_link": true
    },
    "kernelspec": {
      "name": "python3",
      "display_name": "Python 3"
    },
    "language_info": {
      "name": "python"
    }
  },
  "cells": [
    {
      "cell_type": "markdown",
      "metadata": {
        "id": "view-in-github",
        "colab_type": "text"
      },
      "source": [
        "<a href=\"https://colab.research.google.com/github/roi-mashiah/DeepWiPHY_Simulator/blob/master/HE_LTF_NN.ipynb\" target=\"_parent\"><img src=\"https://colab.research.google.com/assets/colab-badge.svg\" alt=\"Open In Colab\"/></a>"
      ]
    },
    {
      "cell_type": "code",
      "execution_count": 12,
      "metadata": {
        "colab": {
          "base_uri": "https://localhost:8080/"
        },
        "id": "tHS0rWpdLUeM",
        "outputId": "ca35ddb2-ff94-4e2e-bb7c-212c3f98e7be"
      },
      "outputs": [
        {
          "output_type": "stream",
          "name": "stdout",
          "text": [
            "Drive already mounted at /content/drive; to attempt to forcibly remount, call drive.mount(\"/content/drive\", force_remount=True).\n"
          ]
        }
      ],
      "source": [
        "import pandas as pd\n",
        "import tensorflow as  tf\n",
        "import numpy as np\n",
        "import io\n",
        "from google.colab import drive\n",
        "drive.mount('/content/drive')\n"
      ]
    },
    {
      "cell_type": "code",
      "source": [],
      "metadata": {
        "id": "NH6ULof9jMVv"
      },
      "execution_count": null,
      "outputs": []
    },
    {
      "cell_type": "code",
      "source": [
        "df = pd.read_csv('/content/train_data.csv')\n",
        "new_df=df.drop('Source.Name',1)\n",
        "df2=new_df.head(18)\n",
        "for i in range(242,94864,242):\n",
        "  temp_df=new_df.iloc[i:(i+18)]\n",
        "  concat_df=pd.concat([df2,temp_df], ignore_index=True)\n",
        "  df2=concat_df\n",
        "print(concat_df)"
      ],
      "metadata": {
        "colab": {
          "base_uri": "https://localhost:8080/"
        },
        "id": "ANKHDm_Yfxm-",
        "outputId": "3e833b8e-d577-4337-d2f8-bd53ccc7db23"
      },
      "execution_count": 53,
      "outputs": [
        {
          "output_type": "stream",
          "name": "stdout",
          "text": [
            "      channel_taps    HE-LTF\n",
            "0         0.679443  0.528886\n",
            "1         0.679443 -0.307460\n",
            "2         0.679443 -0.523761\n",
            "3         0.679443 -0.344131\n",
            "4         0.679443 -0.242876\n",
            "...            ...       ...\n",
            "7051      0.300532  0.156313\n",
            "7052      0.288480  0.233596\n",
            "7053      0.276456 -0.220404\n",
            "7054      0.264512 -0.101932\n",
            "7055      0.252694  0.459808\n",
            "\n",
            "[7056 rows x 2 columns]\n"
          ]
        },
        {
          "output_type": "stream",
          "name": "stderr",
          "text": [
            "<ipython-input-53-6b3ee597fada>:2: FutureWarning: In a future version of pandas all arguments of DataFrame.drop except for the argument 'labels' will be keyword-only.\n",
            "  new_df=df.drop('Source.Name',1)\n"
          ]
        }
      ]
    }
  ]
}