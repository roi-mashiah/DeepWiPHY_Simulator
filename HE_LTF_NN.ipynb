{
  "nbformat": 4,
  "nbformat_minor": 0,
  "metadata": {
    "colab": {
      "provenance": [],
      "mount_file_id": "1GkKTkz_FmKO9hp5eusWKYr30Rw3ggYYn",
      "authorship_tag": "ABX9TyOl2beod1WuevKz5md44YzK",
      "include_colab_link": true
    },
    "kernelspec": {
      "name": "python3",
      "display_name": "Python 3"
    },
    "language_info": {
      "name": "python"
    }
  },
  "cells": [
    {
      "cell_type": "markdown",
      "metadata": {
        "id": "view-in-github",
        "colab_type": "text"
      },
      "source": [
        "<a href=\"https://colab.research.google.com/github/roi-mashiah/DeepWiPHY_Simulator/blob/master/HE_LTF_NN.ipynb\" target=\"_parent\"><img src=\"https://colab.research.google.com/assets/colab-badge.svg\" alt=\"Open In Colab\"/></a>"
      ]
    },
    {
      "cell_type": "code",
      "execution_count": 9,
      "metadata": {
        "colab": {
          "base_uri": "https://localhost:8080/"
        },
        "id": "tHS0rWpdLUeM",
        "outputId": "8d83e1df-a997-4329-c0c9-4dea3daff755"
      },
      "outputs": [
        {
          "output_type": "stream",
          "name": "stdout",
          "text": [
            "Drive already mounted at /content/drive; to attempt to forcibly remount, call drive.mount(\"/content/drive\", force_remount=True).\n"
          ]
        }
      ],
      "source": [
        "import pandas as pd\n",
        "import tensorflow as  tf\n",
        "import numpy as np\n",
        "import io\n",
        "from google.colab import drive\n",
        "drive.mount('/content/drive')\n"
      ]
    },
    {
      "cell_type": "code",
      "source": [],
      "metadata": {
        "id": "NH6ULof9jMVv"
      },
      "execution_count": null,
      "outputs": []
    },
    {
      "cell_type": "code",
      "source": [
        "df = pd.read_csv('/train_data.csv')\n",
        "new_df=df.drop('Source.Name',1)\n",
        "df2=new_df.head(18)\n",
        "df2_T=df2.transpose()\n",
        "for i in range(242,94864,242):\n",
        "  temp_df=new_df.iloc[i:(i+18)]\n",
        "  temp_df_T=temp_df.transpose()\n",
        "  concat_df=pd.concat([df2_T,temp_df_T], ignore_index=True,axis=1)\n",
        "  df2_T=concat_df\n",
        "print(concat_df)"
      ],
      "metadata": {
        "id": "ANKHDm_Yfxm-"
      },
      "execution_count": null,
      "outputs": []
    },
    {
      "cell_type": "code",
      "source": [
        "df18=new_df.head(18)\n",
        "df18_T=df18.transpose()\n",
        "df18_T_HE=df18_T.iloc[1]\n",
        "df18_T_taps=df18_T.drop('HE-LTF',0)\n",
        "df18_merge=pd.concat([df18_T_HE.to_frame().transpose().reset_index(drop=True),df18_T_taps.reset_index(drop=True)],ignore_index=True, axis=1)\n",
        "for i in range(242,94864,242):\n",
        "  temp_df=new_df.iloc[i:(i+18)]\n",
        "  temp_df_T=temp_df.transpose()\n",
        "  temp_df_HE=temp_df_T.iloc[1]\n",
        "  temp_df_taps=temp_df_T.drop('HE-LTF',0)\n",
        "  temp_df_merge=pd.concat([temp_df_HE.to_frame().transpose().reset_index(drop=True),temp_df_taps.reset_index(drop=True)],ignore_index=True, axis=1)\n",
        "  concat_df=pd.concat([df18_merge,temp_df_merge], ignore_index=True)\n",
        "  df18_merge=concat_df\n",
        "\n"
      ],
      "metadata": {
        "id": "XujnCjirQQ1w"
      },
      "execution_count": null,
      "outputs": []
    }
  ]
}