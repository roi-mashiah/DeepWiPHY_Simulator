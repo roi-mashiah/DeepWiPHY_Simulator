{
  "nbformat": 4,
  "nbformat_minor": 0,
  "metadata": {
    "colab": {
      "provenance": [],
      "authorship_tag": "ABX9TyPboAAWVUqrmOmTZkRMxmMI",
      "include_colab_link": true
    },
    "kernelspec": {
      "name": "python3",
      "display_name": "Python 3"
    },
    "language_info": {
      "name": "python"
    }
  },
  "cells": [
    {
      "cell_type": "markdown",
      "metadata": {
        "id": "view-in-github",
        "colab_type": "text"
      },
      "source": [
        "<a href=\"https://colab.research.google.com/github/roi-mashiah/DeepWiPHY_Simulator/blob/master/HE_LTF_NN.ipynb\" target=\"_parent\"><img src=\"https://colab.research.google.com/assets/colab-badge.svg\" alt=\"Open In Colab\"/></a>"
      ]
    },
    {
      "cell_type": "code",
      "execution_count": 6,
      "metadata": {
        "colab": {
          "base_uri": "https://localhost:8080/"
        },
        "id": "tHS0rWpdLUeM",
        "outputId": "ee09c6a2-eb1b-45a1-a75a-4ef7ae59dd36"
      },
      "outputs": [
        {
          "output_type": "stream",
          "name": "stdout",
          "text": [
            "    channel_taps    HE-LTF\n",
            "0       0.679443 -0.318731\n",
            "1       0.679443 -0.326715\n",
            "2       0.679443  0.321310\n",
            "3       0.679443 -0.330204\n",
            "4       0.679443  0.307089\n",
            "5       0.679443 -0.380468\n",
            "6       0.679443  0.352132\n",
            "7       0.679443  0.339051\n",
            "8       0.679443  0.345056\n",
            "9       0.679443 -0.367466\n",
            "10      0.679443  0.332950\n",
            "11      0.679443  0.339907\n",
            "12      0.679443  0.362970\n",
            "13      0.679443 -0.301436\n",
            "14      0.679443 -0.332585\n",
            "15      0.679443  0.332766\n",
            "16      0.679443 -0.341367\n",
            "17      0.679443 -0.374578\n"
          ]
        }
      ],
      "source": [
        "import pandas as pd\n",
        "import tensorflow as  tf\n",
        "import numpy as np\n",
        "url=\"https://raw.githubusercontent.com/roi-mashiah/DeepWiPHY_Simulator/master/sc_101223_0007_snr_30_ch_A_packet_1_imag.csv?token=GHSAT0AAAAAACLNLVWTIYMJB4OLQQPXT5WSZLVTUEQ\"\n",
        "df=pd.read_csv(url)\n",
        "new_df=df.head(18)\n",
        "print(new_df)"
      ]
    }
  ]
}